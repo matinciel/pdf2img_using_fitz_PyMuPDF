{
 "cells": [
  {
   "attachments": {},
   "cell_type": "markdown",
   "metadata": {},
   "source": [
    "Open a pdf and make the page as image.\n",
    "Should take page 'heaven' and 'unheaven' separately (eg.make different names)"
   ]
  },
  {
   "cell_type": "code",
   "execution_count": 17,
   "metadata": {},
   "outputs": [],
   "source": [
    "import os\n",
    "import fitz"
   ]
  },
  {
   "attachments": {},
   "cell_type": "markdown",
   "metadata": {},
   "source": [
    "Set the path to the document and load it."
   ]
  },
  {
   "cell_type": "code",
   "execution_count": 18,
   "metadata": {},
   "outputs": [],
   "source": [
    "lien = r'C:\\test'\n",
    "os.chdir(lien)\n",
    "doc = fitz.open(r'GameofAI.pdf')"
   ]
  },
  {
   "cell_type": "code",
   "execution_count": 19,
   "metadata": {},
   "outputs": [],
   "source": [
    "stop = doc.page_count\n",
    "\n",
    "#Treat the heaven page and \"R\" for recto at the end of the file name\n",
    "\n",
    "for i in range(0,stop,2):\n",
    "    page = doc.load_page(i)\n",
    "    pix = page.get_pixmap()\n",
    "    output = str(i) + \" R.png\"\n",
    "    pix.save(output)\n",
    "\n",
    "#Treat the UNheaven page and \"V\" for verso at the end of the file name\n",
    "#image R/V should have the same number eg. O V.jpg / 0 R.jpg\n",
    "for i in range(1,stop,2):\n",
    "    page = doc.load_page(i)\n",
    "    pix = page.get_pixmap()\n",
    "    output = str(i-1) + \" V.png\"\n",
    "    pix.save(output)"
   ]
  },
  {
   "cell_type": "code",
   "execution_count": null,
   "metadata": {},
   "outputs": [],
   "source": []
  }
 ],
 "metadata": {
  "kernelspec": {
   "display_name": "Python 3",
   "language": "python",
   "name": "python3"
  },
  "language_info": {
   "codemirror_mode": {
    "name": "ipython",
    "version": 3
   },
   "file_extension": ".py",
   "mimetype": "text/x-python",
   "name": "python",
   "nbconvert_exporter": "python",
   "pygments_lexer": "ipython3",
   "version": "3.9.6"
  },
  "orig_nbformat": 4,
  "vscode": {
   "interpreter": {
    "hash": "52634da84371cba311ea128a5ea7cdc41ff074b781779e754b270ff9f8153cee"
   }
  }
 },
 "nbformat": 4,
 "nbformat_minor": 2
}
